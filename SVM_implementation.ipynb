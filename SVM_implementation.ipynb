{
  "nbformat": 4,
  "nbformat_minor": 0,
  "metadata": {
    "colab": {
      "provenance": [],
      "authorship_tag": "ABX9TyOq/VagxHkDYK+Jy+g/5iO0",
      "include_colab_link": true
    },
    "kernelspec": {
      "name": "python3",
      "display_name": "Python 3"
    },
    "language_info": {
      "name": "python"
    }
  },
  "cells": [
    {
      "cell_type": "markdown",
      "metadata": {
        "id": "view-in-github",
        "colab_type": "text"
      },
      "source": [
        "<a href=\"https://colab.research.google.com/github/Venkatarameshredd/30DaysOfWebDevelopment/blob/main/SVM_implementation.ipynb\" target=\"_parent\"><img src=\"https://colab.research.google.com/assets/colab-badge.svg\" alt=\"Open In Colab\"/></a>"
      ]
    },
    {
      "cell_type": "code",
      "execution_count": 6,
      "metadata": {
        "colab": {
          "base_uri": "https://localhost:8080/"
        },
        "collapsed": true,
        "id": "KYzuUthxDMgq",
        "outputId": "c47d7f8e-007d-4ca4-f916-4f4dd94c7f28"
      },
      "outputs": [
        {
          "output_type": "stream",
          "name": "stdout",
          "text": [
            "{'C': 10, 'gamma': 'scale', 'kernel': 'rbf'}\n",
            "[1 0 0 1 2 1 1 0 0 1 1 0 1 0 0 1 0 2 1 2 1 0 2 2 1 2 0 0 0 2 2 0 1 0 0 1 2\n",
            " 1 2 0 0 2 2 0 2]\n",
            "0.9555555555555556\n"
          ]
        }
      ],
      "source": [
        "from sklearn import datasets\n",
        "from sklearn.model_selection import train_test_split\n",
        "from sklearn.svm import SVC\n",
        "from sklearn.model_selection import GridSearchCV\n",
        "\n",
        "iris=datasets.load_iris()\n",
        "iris\n",
        "x=iris.data\n",
        "y=iris.target\n",
        "\n",
        "x_train,x_test,y_train,y_test=train_test_split(x,y,test_size=0.3)\n",
        "\n",
        "#initializing SVM\n",
        "clf=SVC()\n",
        "\n",
        "#setting values for hyperparameters\n",
        "parameters={'C':[0.1,1,10],'kernel':['linear','rbf'],'gamma':['scale','auto']}\n",
        "\n",
        "#Grid search for hyperparameters tuning\n",
        "grid_search=GridSearchCV(clf,parameters,cv=5)\n",
        "grid_search.fit(x_train,y_train)\n",
        "\n",
        "#Best parameters\n",
        "print(grid_search.best_params_)\n",
        "\n",
        "clf=SVC(**grid_search.best_params_)\n",
        "clf.fit(x_train,y_train)\n",
        "y_pred=clf.predict(x_test)\n",
        "print(y_pred)\n",
        "\n",
        "from sklearn.metrics import accuracy_score\n",
        "print(accuracy_score(y_test,y_pred))"
      ]
    }
  ]
}