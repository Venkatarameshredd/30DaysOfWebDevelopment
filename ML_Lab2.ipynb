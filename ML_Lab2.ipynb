{
  "nbformat": 4,
  "nbformat_minor": 0,
  "metadata": {
    "colab": {
      "provenance": [],
      "authorship_tag": "ABX9TyOU1+EhCjio4KCcyRuli3Rk",
      "include_colab_link": true
    },
    "kernelspec": {
      "name": "python3",
      "display_name": "Python 3"
    },
    "language_info": {
      "name": "python"
    }
  },
  "cells": [
    {
      "cell_type": "markdown",
      "metadata": {
        "id": "view-in-github",
        "colab_type": "text"
      },
      "source": [
        "<a href=\"https://colab.research.google.com/github/Venkatarameshredd/30DaysOfWebDevelopment/blob/main/ML_Lab2.ipynb\" target=\"_parent\"><img src=\"https://colab.research.google.com/assets/colab-badge.svg\" alt=\"Open In Colab\"/></a>"
      ]
    },
    {
      "cell_type": "code",
      "execution_count": 8,
      "metadata": {
        "colab": {
          "base_uri": "https://localhost:8080/"
        },
        "collapsed": true,
        "id": "V1Bs7-HIfG6w",
        "outputId": "bfaa6cb1-edf7-4954-d124-2ed3476d0c60"
      },
      "outputs": [
        {
          "output_type": "stream",
          "name": "stdout",
          "text": [
            "0    1\n",
            "1    2\n",
            "2    3\n",
            "3    4\n",
            "4    5\n",
            "dtype: int64\n",
            "    Names  Ages\n",
            "0  Ramesh    22\n",
            "1  mahesh    23\n",
            "2  suresh    24\n"
          ]
        }
      ],
      "source": [
        "import pandas as pd\n",
        "x=pd.Series([1,2,3,4,5])\n",
        "print(x)\n",
        "y=pd.DataFrame({\"Names\":[\"Ramesh\",\"mahesh\",\"suresh\"],\n",
        "               \"Ages\":[22, 23, 24]})\n",
        "print(y)"
      ]
    },
    {
      "cell_type": "code",
      "source": [
        "y=pd.DataFrame({\"Names\":[\"Ramesh\",\"mahesh\",\"suresh\"],\n",
        "               \"Ages\":[22, 23, 24]})\n",
        "print(y)"
      ],
      "metadata": {
        "colab": {
          "base_uri": "https://localhost:8080/"
        },
        "id": "wbGI-7-0gjri",
        "outputId": "e4c69514-f751-4582-f209-5a9e9f22549b"
      },
      "execution_count": 9,
      "outputs": [
        {
          "output_type": "stream",
          "name": "stdout",
          "text": [
            "    Names  Ages\n",
            "0  Ramesh    22\n",
            "1  mahesh    23\n",
            "2  suresh    24\n"
          ]
        }
      ]
    },
    {
      "cell_type": "code",
      "source": [],
      "metadata": {
        "id": "THhic-WaglC2"
      },
      "execution_count": null,
      "outputs": []
    },
    {
      "cell_type": "code",
      "source": [
        "import pandas as pd\n",
        "df=pd.read_csv(\"https://raw.githubusercontent.com/ameenmanna8824/DATASETS/main/areavsprices.csv\")\n",
        "print(df)"
      ],
      "metadata": {
        "colab": {
          "base_uri": "https://localhost:8080/"
        },
        "id": "qIILEXC8gmKC",
        "outputId": "39796a16-1b71-4639-bebf-4244877f7840"
      },
      "execution_count": 18,
      "outputs": [
        {
          "output_type": "stream",
          "name": "stdout",
          "text": [
            "   Area   Prices\n",
            "0  1000   550000\n",
            "1  1500   800000\n",
            "2  1800  1050000\n",
            "3  2400  1240000\n",
            "4  3000  1400000\n",
            "5  3500  1650000\n"
          ]
        }
      ]
    },
    {
      "cell_type": "code",
      "source": [
        "import pandas as pd\n",
        "df=pd.read_csv(\"https://raw.githubusercontent.com/ameenmanna8824/DATASETS/main/areavsprices.csv\")\n",
        "print(df.head())"
      ],
      "metadata": {
        "colab": {
          "base_uri": "https://localhost:8080/"
        },
        "id": "Nrs_ss4Fg0nV",
        "outputId": "7df1c4e5-5669-4735-b7ed-c398a36f2a64"
      },
      "execution_count": 17,
      "outputs": [
        {
          "output_type": "stream",
          "name": "stdout",
          "text": [
            "   Area   Prices\n",
            "0  1000   550000\n",
            "1  1500   800000\n",
            "2  1800  1050000\n",
            "3  2400  1240000\n",
            "4  3000  1400000\n"
          ]
        }
      ]
    },
    {
      "cell_type": "code",
      "source": [
        "  import pandas as pd\n",
        "\n",
        "  data = {'Category': ['A', 'B', 'A', 'B', 'A', 'C'],\n",
        "            'Value': [10, 20, 15, 25, 12, 30],\n",
        "            'Another_Value': [100, 200, 150, 250, 120, 300]}\n",
        "  df = pd.DataFrame(data)\n",
        "  print(\"Original DataFrame:\")\n",
        "  print(df)"
      ],
      "metadata": {
        "colab": {
          "base_uri": "https://localhost:8080/"
        },
        "collapsed": true,
        "id": "x-dXoyPFhZR8",
        "outputId": "bde61648-9ec3-4a76-f7f4-d6691b05687a"
      },
      "execution_count": 5,
      "outputs": [
        {
          "output_type": "stream",
          "name": "stdout",
          "text": [
            "Original DataFrame:\n",
            "  Category  Value  Another_Value\n",
            "0        A     10            100\n",
            "1        B     20            200\n",
            "2        A     15            150\n",
            "3        B     25            250\n",
            "4        A     12            120\n",
            "5        C     30            300\n"
          ]
        }
      ]
    },
    {
      "cell_type": "code",
      "source": [
        "import pandas as pd\n",
        "df=pd.read_csv(\"https://raw.githubusercontent.com/ameenmanna8824/DATASETS/main/CarPrice_Assignment.csv\")\n",
        "print(df.tail)\n",
        "print(df.info())\n",
        "print(df.describe())"
      ],
      "metadata": {
        "colab": {
          "base_uri": "https://localhost:8080/"
        },
        "id": "4eOCdzFShoM1",
        "outputId": "2a7f9b07-8241-4126-a031-de30e5250955"
      },
      "execution_count": 25,
      "outputs": [
        {
          "output_type": "stream",
          "name": "stdout",
          "text": [
            "<bound method NDFrame.tail of      car_ID  symboling                   CarName fueltype aspiration  \\\n",
            "0         1          3        alfa-romero giulia      gas        std   \n",
            "1         2          3       alfa-romero stelvio      gas        std   \n",
            "2         3          1  alfa-romero Quadrifoglio      gas        std   \n",
            "3         4          2               audi 100 ls      gas        std   \n",
            "4         5          2                audi 100ls      gas        std   \n",
            "..      ...        ...                       ...      ...        ...   \n",
            "200     201         -1           volvo 145e (sw)      gas        std   \n",
            "201     202         -1               volvo 144ea      gas      turbo   \n",
            "202     203         -1               volvo 244dl      gas        std   \n",
            "203     204         -1                 volvo 246   diesel      turbo   \n",
            "204     205         -1               volvo 264gl      gas      turbo   \n",
            "\n",
            "    doornumber      carbody drivewheel enginelocation  wheelbase  ...  \\\n",
            "0          two  convertible        rwd          front       88.6  ...   \n",
            "1          two  convertible        rwd          front       88.6  ...   \n",
            "2          two    hatchback        rwd          front       94.5  ...   \n",
            "3         four        sedan        fwd          front       99.8  ...   \n",
            "4         four        sedan        4wd          front       99.4  ...   \n",
            "..         ...          ...        ...            ...        ...  ...   \n",
            "200       four        sedan        rwd          front      109.1  ...   \n",
            "201       four        sedan        rwd          front      109.1  ...   \n",
            "202       four        sedan        rwd          front      109.1  ...   \n",
            "203       four        sedan        rwd          front      109.1  ...   \n",
            "204       four        sedan        rwd          front      109.1  ...   \n",
            "\n",
            "     enginesize  fuelsystem  boreratio  stroke compressionratio horsepower  \\\n",
            "0           130        mpfi       3.47    2.68              9.0        111   \n",
            "1           130        mpfi       3.47    2.68              9.0        111   \n",
            "2           152        mpfi       2.68    3.47              9.0        154   \n",
            "3           109        mpfi       3.19    3.40             10.0        102   \n",
            "4           136        mpfi       3.19    3.40              8.0        115   \n",
            "..          ...         ...        ...     ...              ...        ...   \n",
            "200         141        mpfi       3.78    3.15              9.5        114   \n",
            "201         141        mpfi       3.78    3.15              8.7        160   \n",
            "202         173        mpfi       3.58    2.87              8.8        134   \n",
            "203         145         idi       3.01    3.40             23.0        106   \n",
            "204         141        mpfi       3.78    3.15              9.5        114   \n",
            "\n",
            "     peakrpm citympg  highwaympg    price  \n",
            "0       5000      21          27  13495.0  \n",
            "1       5000      21          27  16500.0  \n",
            "2       5000      19          26  16500.0  \n",
            "3       5500      24          30  13950.0  \n",
            "4       5500      18          22  17450.0  \n",
            "..       ...     ...         ...      ...  \n",
            "200     5400      23          28  16845.0  \n",
            "201     5300      19          25  19045.0  \n",
            "202     5500      18          23  21485.0  \n",
            "203     4800      26          27  22470.0  \n",
            "204     5400      19          25  22625.0  \n",
            "\n",
            "[205 rows x 26 columns]>\n",
            "<class 'pandas.core.frame.DataFrame'>\n",
            "RangeIndex: 205 entries, 0 to 204\n",
            "Data columns (total 26 columns):\n",
            " #   Column            Non-Null Count  Dtype  \n",
            "---  ------            --------------  -----  \n",
            " 0   car_ID            205 non-null    int64  \n",
            " 1   symboling         205 non-null    int64  \n",
            " 2   CarName           205 non-null    object \n",
            " 3   fueltype          205 non-null    object \n",
            " 4   aspiration        205 non-null    object \n",
            " 5   doornumber        205 non-null    object \n",
            " 6   carbody           205 non-null    object \n",
            " 7   drivewheel        205 non-null    object \n",
            " 8   enginelocation    205 non-null    object \n",
            " 9   wheelbase         205 non-null    float64\n",
            " 10  carlength         205 non-null    float64\n",
            " 11  carwidth          205 non-null    float64\n",
            " 12  carheight         205 non-null    float64\n",
            " 13  curbweight        205 non-null    int64  \n",
            " 14  enginetype        205 non-null    object \n",
            " 15  cylindernumber    205 non-null    object \n",
            " 16  enginesize        205 non-null    int64  \n",
            " 17  fuelsystem        205 non-null    object \n",
            " 18  boreratio         205 non-null    float64\n",
            " 19  stroke            205 non-null    float64\n",
            " 20  compressionratio  205 non-null    float64\n",
            " 21  horsepower        205 non-null    int64  \n",
            " 22  peakrpm           205 non-null    int64  \n",
            " 23  citympg           205 non-null    int64  \n",
            " 24  highwaympg        205 non-null    int64  \n",
            " 25  price             205 non-null    float64\n",
            "dtypes: float64(8), int64(8), object(10)\n",
            "memory usage: 41.8+ KB\n",
            "None\n",
            "           car_ID   symboling   wheelbase   carlength    carwidth   carheight  \\\n",
            "count  205.000000  205.000000  205.000000  205.000000  205.000000  205.000000   \n",
            "mean   103.000000    0.834146   98.756585  174.049268   65.907805   53.724878   \n",
            "std     59.322565    1.245307    6.021776   12.337289    2.145204    2.443522   \n",
            "min      1.000000   -2.000000   86.600000  141.100000   60.300000   47.800000   \n",
            "25%     52.000000    0.000000   94.500000  166.300000   64.100000   52.000000   \n",
            "50%    103.000000    1.000000   97.000000  173.200000   65.500000   54.100000   \n",
            "75%    154.000000    2.000000  102.400000  183.100000   66.900000   55.500000   \n",
            "max    205.000000    3.000000  120.900000  208.100000   72.300000   59.800000   \n",
            "\n",
            "        curbweight  enginesize   boreratio      stroke  compressionratio  \\\n",
            "count   205.000000  205.000000  205.000000  205.000000        205.000000   \n",
            "mean   2555.565854  126.907317    3.329756    3.255415         10.142537   \n",
            "std     520.680204   41.642693    0.270844    0.313597          3.972040   \n",
            "min    1488.000000   61.000000    2.540000    2.070000          7.000000   \n",
            "25%    2145.000000   97.000000    3.150000    3.110000          8.600000   \n",
            "50%    2414.000000  120.000000    3.310000    3.290000          9.000000   \n",
            "75%    2935.000000  141.000000    3.580000    3.410000          9.400000   \n",
            "max    4066.000000  326.000000    3.940000    4.170000         23.000000   \n",
            "\n",
            "       horsepower      peakrpm     citympg  highwaympg         price  \n",
            "count  205.000000   205.000000  205.000000  205.000000    205.000000  \n",
            "mean   104.117073  5125.121951   25.219512   30.751220  13276.710571  \n",
            "std     39.544167   476.985643    6.542142    6.886443   7988.852332  \n",
            "min     48.000000  4150.000000   13.000000   16.000000   5118.000000  \n",
            "25%     70.000000  4800.000000   19.000000   25.000000   7788.000000  \n",
            "50%     95.000000  5200.000000   24.000000   30.000000  10295.000000  \n",
            "75%    116.000000  5500.000000   30.000000   34.000000  16503.000000  \n",
            "max    288.000000  6600.000000   49.000000   54.000000  45400.000000  \n"
          ]
        }
      ]
    },
    {
      "cell_type": "code",
      "source": [
        "    import pandas as pd\n",
        "\n",
        "    data = {'Category': ['A', 'B', 'A', 'B', 'A', 'C'],\n",
        "            'Value1': [10, 20, 15, 25, 12, 18],\n",
        "            'Value2': [100, 200, 150, 250, 120, 180]}\n",
        "    df = pd.DataFrame(data)\n",
        "    grouped_data = df.groupby('Category')\n",
        "    calc_avg=grouped_data.mean()\n",
        "    print(calc_avg)\n"
      ],
      "metadata": {
        "colab": {
          "base_uri": "https://localhost:8080/"
        },
        "id": "6icG5pzOmsiH",
        "outputId": "c5801996-9091-40af-98f3-b88a1f6a9dd0"
      },
      "execution_count": 24,
      "outputs": [
        {
          "output_type": "stream",
          "name": "stdout",
          "text": [
            "             Value1      Value2\n",
            "Category                       \n",
            "A         12.333333  123.333333\n",
            "B         22.500000  225.000000\n",
            "C         18.000000  180.000000\n"
          ]
        }
      ]
    },
    {
      "cell_type": "code",
      "source": [
        "import pandas as pd\n",
        "\n",
        "data = {\n",
        "    'Name': ['Alice', 'Bob', 'Charlie', 'Alice', 'Bob', 'Charlie', 'Alice', 'Bob', 'Charlie'],\n",
        "    'Subject': ['Math', 'Math', 'Math', 'Science', 'Science', 'Science', 'English', 'English', 'English'],\n",
        "    'Marks': [85, 90, 78, 92, 88, 75, 80, 95, 82]\n",
        "}\n",
        "df = pd.DataFrame(data)\n",
        "\n",
        "average_marks_per_subject = df.groupby('Subject')['Marks'].mean()\n",
        "print(\"Average Marks per Subject:\")\n",
        "print(average_marks_per_subject)\n",
        "top_scorer_per_subject = df.loc[df.groupby('Subject')['Marks'].idxmax()]\n",
        "print(\"\\nTop Scorer in Each Subject:\")\n",
        "print(top_scorer_per_subject)"
      ],
      "metadata": {
        "colab": {
          "base_uri": "https://localhost:8080/"
        },
        "collapsed": true,
        "id": "LRRK_vfkiHDj",
        "outputId": "a7338f2c-de55-4e52-d275-22dcafcb17ca"
      },
      "execution_count": 21,
      "outputs": [
        {
          "output_type": "stream",
          "name": "stdout",
          "text": [
            "Average Marks per Subject:\n",
            "Subject\n",
            "English    85.666667\n",
            "Math       84.333333\n",
            "Science    85.000000\n",
            "Name: Marks, dtype: float64\n",
            "\n",
            "Top Scorer in Each Subject:\n",
            "    Name  Subject  Marks\n",
            "7    Bob  English     95\n",
            "1    Bob     Math     90\n",
            "3  Alice  Science     92\n"
          ]
        }
      ]
    },
    {
      "cell_type": "code",
      "source": [
        "import pandas as pd\n",
        "\n",
        "# Sample data\n",
        "data = {\n",
        "    \"Employee\": [\"A\", \"B\", \"C\", \"D\", \"E\", \"F\"],\n",
        "    \"Dept\": [\"IT\", \"IT\", \"HR\", \"HR\", \"Finance\", \"Finance\"],\n",
        "    \"Salary\": [50000, 70000, 40000, 45000, 60000, 80000]\n",
        "}\n",
        "\n",
        "df = pd.DataFrame(data)\n",
        "\n",
        "print(\"Employee Data:\")\n",
        "print(df, \"\\n\")\n",
        "\n",
        "dept_avg = df.groupby(\"Dept\")[\"Salary\"].mean().reset_index()\n",
        "dept_avg.rename(columns={\"Salary\": \"Dept_Avg_Salary\"}, inplace=True)\n",
        "\n",
        "print(\"Department-wise Average Salary:\")\n",
        "print(dept_avg, \"\\n\")\n",
        "\n",
        "# Merge the department average salaries back into the original DataFrame\n",
        "df = pd.merge(df, dept_avg, on=\"Dept\")\n",
        "\n",
        "above_avg = df[df[\"Salary\"] > df[\"Dept_Avg_Salary\"]]\n",
        "\n",
        "print(\"Employees earning above department average:\")\n",
        "print(above_avg)"
      ],
      "metadata": {
        "colab": {
          "base_uri": "https://localhost:8080/"
        },
        "id": "7C9imGOmj54Q",
        "outputId": "bf8ad6ec-32dd-4212-e4dd-efa34c6f423b"
      },
      "execution_count": 23,
      "outputs": [
        {
          "output_type": "stream",
          "name": "stdout",
          "text": [
            "Employee Data:\n",
            "  Employee     Dept  Salary\n",
            "0        A       IT   50000\n",
            "1        B       IT   70000\n",
            "2        C       HR   40000\n",
            "3        D       HR   45000\n",
            "4        E  Finance   60000\n",
            "5        F  Finance   80000 \n",
            "\n",
            "Department-wise Average Salary:\n",
            "      Dept  Dept_Avg_Salary\n",
            "0  Finance          70000.0\n",
            "1       HR          42500.0\n",
            "2       IT          60000.0 \n",
            "\n",
            "Employees earning above department average:\n",
            "  Employee     Dept  Salary  Dept_Avg_Salary\n",
            "1        B       IT   70000          60000.0\n",
            "3        D       HR   45000          42500.0\n",
            "5        F  Finance   80000          70000.0\n"
          ]
        }
      ]
    }
  ]
}