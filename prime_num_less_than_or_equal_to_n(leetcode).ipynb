{
  "nbformat": 4,
  "nbformat_minor": 0,
  "metadata": {
    "colab": {
      "provenance": [],
      "authorship_tag": "ABX9TyMALY8zt3sJACsQwLDPN2mz",
      "include_colab_link": true
    },
    "kernelspec": {
      "name": "python3",
      "display_name": "Python 3"
    },
    "language_info": {
      "name": "python"
    }
  },
  "cells": [
    {
      "cell_type": "markdown",
      "metadata": {
        "id": "view-in-github",
        "colab_type": "text"
      },
      "source": [
        "<a href=\"https://colab.research.google.com/github/Venkatarameshredd/30DaysOfWebDevelopment/blob/main/prime_num_less_than_or_equal_to_n(leetcode).ipynb\" target=\"_parent\"><img src=\"https://colab.research.google.com/assets/colab-badge.svg\" alt=\"Open In Colab\"/></a>"
      ]
    },
    {
      "cell_type": "code",
      "source": [
        "\n",
        "def isPrime(n):\n",
        "\n",
        "\tif n <= 1 :\n",
        "\t\treturn False\n",
        "\tfor i in range(2, n):\n",
        "\t\tif n % i == 0:\n",
        "\t\t\treturn False\n",
        "\n",
        "\treturn True\n",
        "def printPrime(n):\n",
        "\tfor i in range(2, n + 1):\n",
        "\t\tif isPrime(i):\n",
        "\t\t\tprint(i, end = \" \")\n",
        "if __name__ == \"__main__\" :\n",
        "\tn = 7\n",
        "\tprintPrime(n)\n",
        "\n",
        "\n"
      ],
      "metadata": {
        "colab": {
          "base_uri": "https://localhost:8080/"
        },
        "id": "VpY4NTYQZuUt",
        "outputId": "0b6e14ab-5723-42bb-c963-dd7be317f375"
      },
      "execution_count": 2,
      "outputs": [
        {
          "output_type": "stream",
          "name": "stdout",
          "text": [
            "2 3 5 7 "
          ]
        }
      ]
    },
    {
      "cell_type": "code",
      "execution_count": null,
      "metadata": {
        "id": "ECJiAxnmZplL"
      },
      "outputs": [],
      "source": []
    }
  ]
}