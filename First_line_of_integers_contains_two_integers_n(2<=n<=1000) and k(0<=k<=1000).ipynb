{
  "nbformat": 4,
  "nbformat_minor": 0,
  "metadata": {
    "colab": {
      "provenance": [],
      "authorship_tag": "ABX9TyMQ9HLC1xWmnJKC4PhscipB",
      "include_colab_link": true
    },
    "kernelspec": {
      "name": "python3",
      "display_name": "Python 3"
    },
    "language_info": {
      "name": "python"
    }
  },
  "cells": [
    {
      "cell_type": "markdown",
      "metadata": {
        "id": "view-in-github",
        "colab_type": "text"
      },
      "source": [
        "<a href=\"https://colab.research.google.com/github/Venkatarameshredd/30DaysOfWebDevelopment/blob/main/First_line_of_integers_contains_two_integers_n(2%3C%3Dn%3C%3D1000)%20and%20k(0%3C%3Dk%3C%3D1000).ipynb\" target=\"_parent\"><img src=\"https://colab.research.google.com/assets/colab-badge.svg\" alt=\"Open In Colab\"/></a>"
      ]
    },
    {
      "cell_type": "code",
      "source": [
        "\n",
        "def isPrime(n):\n",
        "\n",
        "\tif n <= 1 :\n",
        "\t\treturn False\n",
        "\tfor i in range(2, n):\n",
        "\t\tif n % i == 0:\n",
        "\t\t\treturn False\n",
        "\n",
        "\treturn True\n",
        "def printPrime(n):\n",
        "\tfor i in range(2, n + 1):\n",
        "\t\tif isPrime(i):\n",
        "\t\t\tprint(i, end = \" \")\n",
        "if __name__ == \"__main__\" :\n",
        "\tn = 7\n",
        "\tprintPrime(n)\n",
        "\n",
        "\n"
      ],
      "metadata": {
        "colab": {
          "base_uri": "https://localhost:8080/"
        },
        "id": "VpY4NTYQZuUt",
        "outputId": "0b6e14ab-5723-42bb-c963-dd7be317f375"
      },
      "execution_count": null,
      "outputs": [
        {
          "output_type": "stream",
          "name": "stdout",
          "text": [
            "2 3 5 7 "
          ]
        }
      ]
    },
    {
      "cell_type": "code",
      "execution_count": null,
      "metadata": {
        "id": "ECJiAxnmZplL",
        "colab": {
          "base_uri": "https://localhost:8080/"
        },
        "outputId": "192a5808-1d75-47db-8de7-395894e4d55c"
      },
      "outputs": [
        {
          "output_type": "stream",
          "name": "stdout",
          "text": [
            "10\n",
            "13\n"
          ]
        }
      ],
      "source": [
        "def is_prime(n):\n",
        "  if n<2:\n",
        "    return False\n",
        "  for i in range(2,int(n**0.5)+1):\n",
        "    if n%i==0:\n",
        "      return False\n",
        "  return True\n",
        "def kth_prime(N,K):\n",
        "  count=0\n",
        "  for i in range(N+1,N+K**2):\n",
        "    if is_prime(n):\n",
        "      count+=1\n",
        "      if count == K:\n",
        "        return i\n",
        "  return None\n",
        "print(kth_prime(5,5))\n",
        "print(kth_prime(10,3))"
      ]
    },
    {
      "cell_type": "code",
      "source": [
        "import math\n",
        "n=1000\n",
        "pr=[True for i in range(n+1)]\n",
        "pr[0]=pr[1]=False\n",
        "for i in range(2,int(math.sqrt(n))+1):\n",
        "  if pr[i]:\n",
        "    for j in range(i*i,n+1,i):\n",
        "      pr[j]=False\n",
        "prs=[]\n",
        "for i in range(2,n+1):\n",
        "  if pr[i]:\n",
        "    prs.append(i)\n",
        "z=[False for i in range(n+1)]\n",
        "for i in range(len(prs)-1):\n",
        "    ele=prs[i]+prs[i+1]+1\n",
        "    if ele>n:\n",
        "      break\n",
        "    if pr[ele]:\n",
        "      z[ele]=True\n",
        "n,k=map(int,input().split())\n",
        "c=0\n",
        "for i in range(2,n+1):\n",
        "  if z[i]:\n",
        "    c+=1\n",
        "if c>=k:\n",
        "  print(\"Yes\")\n",
        "else:\n",
        "  print(\"No\")\n",
        "\n",
        "\n"
      ],
      "metadata": {
        "colab": {
          "base_uri": "https://localhost:8080/"
        },
        "id": "0CjlAyXSrOk_",
        "outputId": "a3aebea5-505f-413a-a8c2-43c211b6a618"
      },
      "execution_count": 7,
      "outputs": [
        {
          "output_type": "stream",
          "name": "stdout",
          "text": [
            "27 2\n",
            "Yes\n"
          ]
        }
      ]
    }
  ]
}