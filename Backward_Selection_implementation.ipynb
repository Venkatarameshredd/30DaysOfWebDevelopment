{
  "nbformat": 4,
  "nbformat_minor": 0,
  "metadata": {
    "colab": {
      "provenance": [],
      "authorship_tag": "ABX9TyMtvgwEhTsF7MdUn7y34Efb",
      "include_colab_link": true
    },
    "kernelspec": {
      "name": "python3",
      "display_name": "Python 3"
    },
    "language_info": {
      "name": "python"
    }
  },
  "cells": [
    {
      "cell_type": "markdown",
      "metadata": {
        "id": "view-in-github",
        "colab_type": "text"
      },
      "source": [
        "<a href=\"https://colab.research.google.com/github/Venkatarameshredd/30DaysOfWebDevelopment/blob/main/Backward_Selection_implementation.ipynb\" target=\"_parent\"><img src=\"https://colab.research.google.com/assets/colab-badge.svg\" alt=\"Open In Colab\"/></a>"
      ]
    },
    {
      "cell_type": "code",
      "execution_count": 1,
      "metadata": {
        "colab": {
          "base_uri": "https://localhost:8080/"
        },
        "id": "N-paCykwlPFg",
        "outputId": "47250c70-4d08-4891-d728-ff703f68a862",
        "collapsed": true
      },
      "outputs": [
        {
          "output_type": "stream",
          "name": "stdout",
          "text": [
            "Selected features: ['MedInc', 'HouseAge', 'AveBedrms', 'Latitude', 'Longitude']\n"
          ]
        }
      ],
      "source": [
        "from sklearn.feature_selection import SequentialFeatureSelector\n",
        "from sklearn.datasets import fetch_california_housing # Use fetch_california_housing instead of load_boston\n",
        "from sklearn.linear_model import LinearRegression\n",
        "from sklearn.model_selection import train_test_split\n",
        "import pandas as pd\n",
        "\n",
        "# Load dataset\n",
        "# boston = load_boston() # Removed load_boston\n",
        "housing = fetch_california_housing() # Load California housing dataset\n",
        "X = pd.DataFrame(housing.data, columns=housing.feature_names) # Use housing.data and housing.feature_names\n",
        "y = pd.Series(housing.target, name='MEDV') # Use housing.target and name it 'MEDV'\n",
        "\n",
        "# Split dataset\n",
        "X_train, X_test, y_train, y_test = train_test_split(X, y, test_size=0.2, random_state=42)\n",
        "\n",
        "# Model\n",
        "lr = LinearRegression()\n",
        "\n",
        "# Backward Selection\n",
        "sbs = SequentialFeatureSelector(\n",
        "    lr,\n",
        "    n_features_to_select=5,     # keep top 5 features\n",
        "    direction='backward',       # <--- backward selection\n",
        "    scoring='r2',\n",
        "    cv=5,\n",
        "    n_jobs=-1\n",
        ")\n",
        "\n",
        "sbs.fit(X_train, y_train)\n",
        "\n",
        "# Selected feature names\n",
        "selected_indices = sbs.get_support(indices=True)\n",
        "selected_features = X.columns[selected_indices]\n",
        "print(\"Selected features:\", list(selected_features))"
      ]
    }
  ]
}