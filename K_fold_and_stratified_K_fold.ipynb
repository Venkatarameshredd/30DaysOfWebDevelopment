{
  "nbformat": 4,
  "nbformat_minor": 0,
  "metadata": {
    "colab": {
      "provenance": [],
      "authorship_tag": "ABX9TyNWvyLTbSyX5gr9kg/KwlGd",
      "include_colab_link": true
    },
    "kernelspec": {
      "name": "python3",
      "display_name": "Python 3"
    },
    "language_info": {
      "name": "python"
    }
  },
  "cells": [
    {
      "cell_type": "markdown",
      "metadata": {
        "id": "view-in-github",
        "colab_type": "text"
      },
      "source": [
        "<a href=\"https://colab.research.google.com/github/Venkatarameshredd/30DaysOfWebDevelopment/blob/main/K_fold_and_stratified_K_fold.ipynb\" target=\"_parent\"><img src=\"https://colab.research.google.com/assets/colab-badge.svg\" alt=\"Open In Colab\"/></a>"
      ]
    },
    {
      "cell_type": "code",
      "execution_count": 12,
      "metadata": {
        "colab": {
          "base_uri": "https://localhost:8080/"
        },
        "collapsed": true,
        "id": "LtcBVjzSp7BF",
        "outputId": "4f388ece-48f3-4f24-9714-d2dc5996ec41"
      },
      "outputs": [
        {
          "output_type": "stream",
          "name": "stdout",
          "text": [
            "<class 'pandas.core.frame.DataFrame'>\n",
            "RangeIndex: 690 entries, 0 to 689\n",
            "Data columns (total 16 columns):\n",
            " #   Column      Non-Null Count  Dtype  \n",
            "---  ------      --------------  -----  \n",
            " 0   CustomerID  690 non-null    int64  \n",
            " 1   A1          690 non-null    int64  \n",
            " 2   A2          690 non-null    float64\n",
            " 3   A3          690 non-null    float64\n",
            " 4   A4          690 non-null    int64  \n",
            " 5   A5          690 non-null    int64  \n",
            " 6   A6          690 non-null    int64  \n",
            " 7   A7          690 non-null    float64\n",
            " 8   A8          690 non-null    int64  \n",
            " 9   A9          690 non-null    int64  \n",
            " 10  A10         690 non-null    int64  \n",
            " 11  A11         690 non-null    int64  \n",
            " 12  A12         690 non-null    int64  \n",
            " 13  A13         690 non-null    int64  \n",
            " 14  A14         690 non-null    int64  \n",
            " 15  Class       690 non-null    int64  \n",
            "dtypes: float64(3), int64(13)\n",
            "memory usage: 86.4 KB\n",
            "None\n",
            "Class\n",
            "0    383\n",
            "1    307\n",
            "Name: count, dtype: int64\n",
            "K_fold cross validation scores: {scores_kfold}\n",
            "Mean accuracy: {scores_kfold.mean():.2f}\n",
            "Stratified K_fold cross validation scores:  [0.87387387 0.88288288 0.91818182 0.82727273 0.84545455]\n",
            "Mean accuracy: {Stratified_kfold:  0.8695331695331696\n"
          ]
        }
      ],
      "source": [
        "import pandas as pd\n",
        "from sklearn.model_selection import train_test_split,cross_val_score,KFold,StratifiedKFold\n",
        "from sklearn.ensemble import RandomForestClassifier\n",
        "\n",
        "\n",
        "#load dataset\n",
        "url=\"https://raw.githubusercontent.com/sharmaroshan/Credit-Card-Fraud-Detection/refs/heads/master/Credit_Card_Applications.csv\"\n",
        "df=pd.read_csv(url)\n",
        "\n",
        "#display dataset info\n",
        "print(df.info())\n",
        "print(df['Class'].value_counts())\n",
        "\n",
        "#define features and target\n",
        "x=df.drop(columns=['Class'])\n",
        "y=df['Class']\n",
        "\n",
        "#split dataset\n",
        "x_train,x_test,y_train,y_test=train_test_split(x,y,test_size=0.2,random_state=42)\n",
        "\n",
        "#initialize kfold\n",
        "kf=KFold(n_splits=5,shuffle=True,random_state=42)\n",
        "\n",
        "#train and evaluate model\n",
        "rf_model=RandomForestClassifier(random_state=42)\n",
        "scores_kfold=cross_val_score(rf_model,x_train,y_train,cv=kf,scoring='accuracy')\n",
        "\n",
        "print(\"K_fold cross validation scores: {scores_kfold}\")\n",
        "print(\"Mean accuracy: {scores_kfold.mean():.2f}\")\n",
        "\n",
        "#initialize stratified kfold\n",
        "skf=StratifiedKFold(n_splits=5,shuffle=True,random_state=42)\n",
        "\n",
        "#train and evaluate model\n",
        "scores_stratified=cross_val_score(rf_model,x_train,y_train,cv=skf,scoring='accuracy')\n",
        "\n",
        "print(\"Stratified K_fold cross validation scores: \",scores_stratified)\n",
        "print(\"Mean accuracy: {Stratified_kfold: \", scores_stratified.mean())\n",
        "\n"
      ]
    }
  ]
}