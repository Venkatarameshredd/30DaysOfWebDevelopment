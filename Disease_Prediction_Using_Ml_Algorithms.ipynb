{
  "nbformat": 4,
  "nbformat_minor": 0,
  "metadata": {
    "colab": {
      "provenance": [],
      "authorship_tag": "ABX9TyMW1qoa65Uv4GgIMkrGY4F/",
      "include_colab_link": true
    },
    "kernelspec": {
      "name": "python3",
      "display_name": "Python 3"
    },
    "language_info": {
      "name": "python"
    }
  },
  "cells": [
    {
      "cell_type": "markdown",
      "metadata": {
        "id": "view-in-github",
        "colab_type": "text"
      },
      "source": [
        "<a href=\"https://colab.research.google.com/github/Venkatarameshredd/30DaysOfWebDevelopment/blob/main/Disease_Prediction_Using_Ml_Algorithms.ipynb\" target=\"_parent\"><img src=\"https://colab.research.google.com/assets/colab-badge.svg\" alt=\"Open In Colab\"/></a>"
      ]
    },
    {
      "cell_type": "code",
      "execution_count": 5,
      "metadata": {
        "colab": {
          "base_uri": "https://localhost:8080/"
        },
        "collapsed": true,
        "id": "bQeXE4vn3SPK",
        "outputId": "c21f8041-6a3d-4aac-bfe7-b6ad3d56cc1a"
      },
      "outputs": [
        {
          "output_type": "stream",
          "name": "stdout",
          "text": [
            "   age  sex  cp  trestbps  chol  fbs  restecg  thalach  exang  oldpeak  slope  \\\n",
            "0   63    1   3       145   233    1        0      150      0      2.3      0   \n",
            "1   37    1   2       130   250    0        1      187      0      3.5      0   \n",
            "2   41    0   1       130   204    0        0      172      0      1.4      2   \n",
            "3   56    1   1       120   236    0        1      178      0      0.8      2   \n",
            "4   57    0   0       120   354    0        1      163      1      0.6      2   \n",
            "\n",
            "   ca  thal  target  \n",
            "0   0     1       1  \n",
            "1   0     2       1  \n",
            "2   0     2       1  \n",
            "3   0     2       1  \n",
            "4   0     2       1  \n",
            "age         0\n",
            "sex         0\n",
            "cp          0\n",
            "trestbps    0\n",
            "chol        0\n",
            "fbs         0\n",
            "restecg     0\n",
            "thalach     0\n",
            "exang       0\n",
            "oldpeak     0\n",
            "slope       0\n",
            "ca          0\n",
            "thal        0\n",
            "target      0\n",
            "dtype: int64\n",
            "LogisticRegression 0.8524590163934426\n",
            "Random Forest Accuracy : 0.8688524590163934\n",
            "0.8688524590163934\n",
            "              precision    recall  f1-score   support\n",
            "\n",
            "           0       0.86      0.86      0.86        29\n",
            "           1       0.88      0.88      0.88        32\n",
            "\n",
            "    accuracy                           0.87        61\n",
            "   macro avg       0.87      0.87      0.87        61\n",
            "weighted avg       0.87      0.87      0.87        61\n",
            "\n",
            "[[25  4]\n",
            " [ 4 28]]\n",
            "\n",
            "Prediction for New Data: At Risk of Heart Disease\n"
          ]
        }
      ],
      "source": [
        "import pandas as pd\n",
        "import numpy as np\n",
        "from sklearn.model_selection import train_test_split\n",
        "from sklearn.preprocessing import StandardScaler\n",
        "from sklearn.linear_model import LogisticRegression\n",
        "from sklearn.ensemble import RandomForestClassifier\n",
        "from sklearn.metrics import accuracy_score,confusion_matrix,classification_report\n",
        "import matplotlib.pyplot as plt\n",
        "import seaborn as sns\n",
        "import warnings\n",
        "\n",
        "warnings.filterwarnings('ignore')\n",
        "df=pd.read_csv('https://raw.githubusercontent.com/kb22/Heart-Disease-Prediction/master/dataset.csv')\n",
        "\n",
        "print(df.head())\n",
        "\n",
        "print(df.isnull().sum())\n",
        "scaler=StandardScaler()\n",
        "scaled_features=scaler.fit_transform(df.drop('target',axis=1))\n",
        "x=pd.DataFrame(scaled_features,columns=df.columns[:-1])\n",
        "y=df['target']\n",
        "\n",
        "x_train,x_test,y_train,y_test=train_test_split(x,y,test_size=0.2,random_state=42)\n",
        "\n",
        "#logistic regression\n",
        "log_model=LogisticRegression()\n",
        "log_model.fit(x_train,y_train)\n",
        "log_pred=log_model.predict(x_test)\n",
        "log_accuracy=accuracy_score(y_test,log_pred)\n",
        "print(\"LogisticRegression\",log_accuracy)\n",
        "\n",
        "#Random_Forest_Classifier\n",
        "rf_model=RandomForestClassifier()\n",
        "rf_model.fit(x_train,y_train)\n",
        "rf_pred=rf_model.predict(x_test)\n",
        "rf_accuracy=accuracy_score(y_test,rf_pred)\n",
        "print(\"Random Forest Accuracy :\",rf_accuracy)\n",
        "\n",
        "#Evaluate the best model\n",
        "best_model=rf_model if rf_accuracy>log_accuracy else log_model\n",
        "best_pred=rf_pred if rf_accuracy>log_accuracy else log_pred\n",
        "print(accuracy_score(y_test,best_pred))\n",
        "print(classification_report(y_test,best_pred))\n",
        "print(confusion_matrix(y_test,best_pred))\n",
        "\n",
        "#make predictions on new_data\n",
        "new_data=pd.DataFrame({\n",
        "    'age': [45],\n",
        "    'sex': [1],\n",
        "    'cp': [2],\n",
        "    'trestbps': [130],\n",
        "    'chol': [230],\n",
        "    'fbs': [0],\n",
        "    'restecg': [1],\n",
        "    'thalach': [150],\n",
        "    'exang': [0],\n",
        "    'oldpeak': [0.5],\n",
        "    'slope': [2],\n",
        "    'ca': [0],\n",
        "    'thal': [2]\n",
        "})\n",
        "\n",
        "#scale new_data\n",
        "new_data_scaled=scaler.transform(new_data)\n",
        "prediction=best_model.predict(new_data_scaled)\n",
        "print(\"\\nPrediction for New Data:\", \"At Risk of Heart Disease\" if prediction[0]==1 else \"No Heart Disease\")\n"
      ]
    },
    {
      "cell_type": "code",
      "source": [],
      "metadata": {
        "id": "oLufreWyECFP"
      },
      "execution_count": null,
      "outputs": []
    },
    {
      "cell_type": "code",
      "source": [],
      "metadata": {
        "id": "tjBEsZ1KD11T"
      },
      "execution_count": null,
      "outputs": []
    }
  ]
}