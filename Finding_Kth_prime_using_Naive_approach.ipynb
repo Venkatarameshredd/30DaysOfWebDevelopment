{
  "nbformat": 4,
  "nbformat_minor": 0,
  "metadata": {
    "colab": {
      "provenance": [],
      "authorship_tag": "ABX9TyM0XQSUsFyAjyKde+pq8n+Y",
      "include_colab_link": true
    },
    "kernelspec": {
      "name": "python3",
      "display_name": "Python 3"
    },
    "language_info": {
      "name": "python"
    }
  },
  "cells": [
    {
      "cell_type": "markdown",
      "metadata": {
        "id": "view-in-github",
        "colab_type": "text"
      },
      "source": [
        "<a href=\"https://colab.research.google.com/github/Venkatarameshredd/30DaysOfWebDevelopment/blob/main/Finding_Kth_prime_using_Naive_approach.ipynb\" target=\"_parent\"><img src=\"https://colab.research.google.com/assets/colab-badge.svg\" alt=\"Open In Colab\"/></a>"
      ]
    },
    {
      "cell_type": "code",
      "source": [
        "\n",
        "def isPrime(n):\n",
        "\n",
        "\tif n <= 1 :\n",
        "\t\treturn False\n",
        "\tfor i in range(2, n):\n",
        "\t\tif n % i == 0:\n",
        "\t\t\treturn False\n",
        "\n",
        "\treturn True\n",
        "def printPrime(n):\n",
        "\tfor i in range(2, n + 1):\n",
        "\t\tif isPrime(i):\n",
        "\t\t\tprint(i, end = \" \")\n",
        "if __name__ == \"__main__\" :\n",
        "\tn = 7\n",
        "\tprintPrime(n)\n",
        "\n",
        "\n"
      ],
      "metadata": {
        "colab": {
          "base_uri": "https://localhost:8080/"
        },
        "id": "VpY4NTYQZuUt",
        "outputId": "0b6e14ab-5723-42bb-c963-dd7be317f375"
      },
      "execution_count": 2,
      "outputs": [
        {
          "output_type": "stream",
          "name": "stdout",
          "text": [
            "2 3 5 7 "
          ]
        }
      ]
    },
    {
      "cell_type": "code",
      "execution_count": 4,
      "metadata": {
        "id": "ECJiAxnmZplL",
        "colab": {
          "base_uri": "https://localhost:8080/"
        },
        "outputId": "192a5808-1d75-47db-8de7-395894e4d55c"
      },
      "outputs": [
        {
          "output_type": "stream",
          "name": "stdout",
          "text": [
            "10\n",
            "13\n"
          ]
        }
      ],
      "source": [
        "def is_prime(n):\n",
        "  if n<2:\n",
        "    return False\n",
        "  for i in range(2,int(n**0.5)+1):\n",
        "    if n%i==0:\n",
        "      return False\n",
        "  return True\n",
        "def kth_prime(N,K):\n",
        "  count=0\n",
        "  for i in range(N+1,N+K**2):\n",
        "    if is_prime(n):\n",
        "      count+=1\n",
        "      if count == K:\n",
        "        return i\n",
        "  return None\n",
        "print(kth_prime(5,5))\n",
        "print(kth_prime(10,3))"
      ]
    }
  ]
}